{
 "cells": [
  {
   "cell_type": "code",
   "execution_count": 26,
   "metadata": {},
   "outputs": [],
   "source": [
    "## WMD (Word mover's distance)function using scipy.stats.wasserstein_distance:\n",
    "## parameters are u and v, which are array-like values observed in the (empirical) distribution.\n",
    "## Weight parameters might be normalized BOW."
   ]
  },
  {
   "cell_type": "code",
   "execution_count": 27,
   "metadata": {},
   "outputs": [],
   "source": [
    "### quoting from the paper: Word Mover's distance. Given an embedding of a vocabulary as V ⊂ Rn, the Euclidean metric puts\n",
    "### a geometry on the words in V . A corpus D = {d1, d2, . . . d|D|} can be represented using distributions\n",
    "### over V via a normalized BOW.... The WMD between documents d1 and d2 is then WMD(d1, d2) = W1(d1, d2)."
   ]
  },
  {
   "cell_type": "code",
   "execution_count": 28,
   "metadata": {},
   "outputs": [],
   "source": [
    " from scipy.stats import wasserstein_distance"
   ]
  },
  {
   "cell_type": "code",
   "execution_count": 29,
   "metadata": {},
   "outputs": [],
   "source": [
    "def wmd(u,v,u_weight,v_weight): ### u and v take two probability distributions; weight perhaps take NBOW\n",
    "   return wasserstein_distance(u,v,u_weight, v_weight)"
   ]
  },
  {
   "cell_type": "code",
   "execution_count": 30,
   "metadata": {},
   "outputs": [],
   "source": [
    "#### WMD-T20: find distances between the top 20 words."
   ]
  },
  {
   "cell_type": "code",
   "execution_count": 33,
   "metadata": {},
   "outputs": [],
   "source": [
    "import numpy as np\n",
    "def wmdT20(u,v,u_weight,v_weight): \n",
    "    idx_u = np.argsort(u)\n",
    "    idx_v = np.argsort(v)\n",
    "    u_t20 = np.zeros(len(indx_u[:20]))\n",
    "    uw_t20 = np.zeros(len(indx_u[:20]))\n",
    "    v_t20 = np.zeros(len(indx_v[:20]))\n",
    "    vw_t20 = np.zeros(len(indx_v[:20]))\n",
    "    k = 0\n",
    "    n = 0\n",
    "    \n",
    "    for i in idx_u[:20]:\n",
    "        u_t20[k] = u[i]\n",
    "        uw_t20[k] = u_weight[i]\n",
    "        k+=1\n",
    "    for ii in idx_v[:20]:\n",
    "        v_t20[n] = v[ii]\n",
    "        vw_t20[n] = v_weight[ii]\n",
    "        n+=1\n",
    "\n",
    "    return wasserstein_distance(u_t20,v_t20,uw_t20, vw_t20)"
   ]
  },
  {
   "cell_type": "code",
   "execution_count": 34,
   "metadata": {},
   "outputs": [],
   "source": [
    "#### RWMD: code modified from https://github.com/mkusner/wmd/blob/master/compute_rwmd.m"
   ]
  },
  {
   "cell_type": "code",
   "execution_count": 67,
   "metadata": {},
   "outputs": [],
   "source": [
    "def RWMD(u,v,u_BOW,v_BOW):\n",
    "    import math\n",
    "    temp = np.arange(len(u_BOW))\n",
    "    n = len(u_BOW)\n",
    "    RWMD_D = np.zeros(n,n)\n",
    "    DD = np.sum((np.array(u) - np.array(v))**2)\n",
    "    for i in temp:\n",
    "        Ei = np.zeros(1,n)\n",
    "        for j in temp:\n",
    "            if len(u_BOW[i])>0 or len(v_BOW[i])>0:\n",
    "                Ei[j]= math.inf\n",
    "            else:\n",
    "                x1 = u_BOW[i]/u_BOW[i].sum();\n",
    "                x2 = v_BOW[i]/v_BOW[i].sum();\n",
    "\n",
    "                m1 = np.sqrt(max(min(DD[i]),0)); \n",
    "                m2 = np.sqrt(max(min(DD[i]),0)); \n",
    "                dist1 = m1*x2;\n",
    "                dist2 = m2*x1;\n",
    "\n",
    "            Ei[j] = max(dist1,dist2)\n",
    "            \n",
    "        RWMD_D[i] = Ei;\n",
    "\n",
    "    return RWMD_D\n"
   ]
  },
  {
   "cell_type": "code",
   "execution_count": null,
   "metadata": {},
   "outputs": [],
   "source": []
  }
 ],
 "metadata": {
  "kernelspec": {
   "display_name": "Python 3",
   "language": "python",
   "name": "python3"
  },
  "language_info": {
   "codemirror_mode": {
    "name": "ipython",
    "version": 3
   },
   "file_extension": ".py",
   "mimetype": "text/x-python",
   "name": "python",
   "nbconvert_exporter": "python",
   "pygments_lexer": "ipython3",
   "version": "3.7.4"
  }
 },
 "nbformat": 4,
 "nbformat_minor": 4
}
