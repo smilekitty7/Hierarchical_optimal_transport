{
 "cells": [
  {
   "cell_type": "code",
   "execution_count": 1,
   "metadata": {},
   "outputs": [],
   "source": [
    " from scipy.stats import wasserstein_distance"
   ]
  },
  {
   "cell_type": "code",
   "execution_count": null,
   "metadata": {},
   "outputs": [],
   "source": [
    "## Quoting from the paper: When computing HOTT, we simply truncate LDA topic proportions at 1/(|T | + 1), \n",
    "## the value below LDA’s uniform topic proportion prior, and re-normalize. "
   ]
  },
  {
   "cell_type": "code",
   "execution_count": null,
   "metadata": {},
   "outputs": [],
   "source": [
    "def HOTT(u,v,u_weight,v_weight,prior = -999): ### u and v take LDA topic proportions; weights take the NBOW perhaps\n",
    "    if prior == -999:\n",
    "        prior = 1./(length(u) + 1);\n",
    "    u_new = u[np.where(u > prior)];\n",
    "    v_new = v[np.where(v > prior)];\n",
    "    u_weight_new =u_weight[np.where(u>prior)];\n",
    "    v_weight_new = v_weight[np.where(v>prior)];\n",
    "    return wasserstein_distance(u_new,v_new,u_weight_new, v_weight_new)"
   ]
  },
  {
   "cell_type": "code",
   "execution_count": null,
   "metadata": {},
   "outputs": [],
   "source": []
  }
 ],
 "metadata": {
  "kernelspec": {
   "display_name": "Python 3",
   "language": "python",
   "name": "python3"
  },
  "language_info": {
   "codemirror_mode": {
    "name": "ipython",
    "version": 3
   },
   "file_extension": ".py",
   "mimetype": "text/x-python",
   "name": "python",
   "nbconvert_exporter": "python",
   "pygments_lexer": "ipython3",
   "version": "3.7.4"
  }
 },
 "nbformat": 4,
 "nbformat_minor": 4
}
